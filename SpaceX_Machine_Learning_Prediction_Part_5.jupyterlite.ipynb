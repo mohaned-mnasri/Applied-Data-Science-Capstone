{
 "cells": [
  {
   "cell_type": "markdown",
   "metadata": {},
   "source": [
    "<p style=\"text-align:center\">\n",
    "    <a href=\"https://skills.network/?utm_medium=Exinfluencer&utm_source=Exinfluencer&utm_content=000026UJ&utm_term=10006555&utm_id=NA-SkillsNetwork-Channel-SkillsNetworkCoursesIBMDS0321ENSkillsNetwork26802033-2022-01-01\">\n",
    "    <img src=\"https://cf-courses-data.s3.us.cloud-object-storage.appdomain.cloud/assets/logos/SN_web_lightmode.png\" width=\"200\" alt=\"Skills Network Logo\"  />\n",
    "    </a>\n",
    "</p>\n"
   ]
  },
  {
   "cell_type": "markdown",
   "metadata": {},
   "source": [
    "# **Space X  Falcon 9 First Stage Landing Prediction**\n"
   ]
  },
  {
   "cell_type": "markdown",
   "metadata": {},
   "source": [
    "## Assignment:  Machine Learning Prediction\n"
   ]
  },
  {
   "cell_type": "markdown",
   "metadata": {},
   "source": [
    "Estimated time needed: **60** minutes\n"
   ]
  },
  {
   "cell_type": "markdown",
   "metadata": {},
   "source": [
    "Space X advertises Falcon 9 rocket launches on its website with a cost of 62 million dollars; other providers cost upward of 165 million dollars each, much of the savings is because Space X can reuse the first stage. Therefore if we can determine if the first stage will land, we can determine the cost of a launch. This information can be used if an alternate company wants to bid against space X for a rocket launch.   In this lab, you will create a machine learning pipeline  to predict if the first stage will land given the data from the preceding labs.\n"
   ]
  },
  {
   "cell_type": "markdown",
   "metadata": {},
   "source": [
    "![](https://cf-courses-data.s3.us.cloud-object-storage.appdomain.cloud/IBMDeveloperSkillsNetwork-DS0701EN-SkillsNetwork/api/Images/landing_1.gif)\n"
   ]
  },
  {
   "cell_type": "markdown",
   "metadata": {},
   "source": [
    "Several examples of an unsuccessful landing are shown here:\n"
   ]
  },
  {
   "cell_type": "markdown",
   "metadata": {},
   "source": [
    "![](https://cf-courses-data.s3.us.cloud-object-storage.appdomain.cloud/IBMDeveloperSkillsNetwork-DS0701EN-SkillsNetwork/api/Images/crash.gif)\n"
   ]
  },
  {
   "cell_type": "markdown",
   "metadata": {},
   "source": [
    "Most unsuccessful landings are planed. Space X; performs a controlled landing in the oceans.\n"
   ]
  },
  {
   "cell_type": "markdown",
   "metadata": {},
   "source": [
    "## Objectives\n"
   ]
  },
  {
   "cell_type": "markdown",
   "metadata": {},
   "source": [
    "Perform exploratory  Data Analysis and determine Training Labels\n",
    "\n",
    "*   create a column for the class\n",
    "*   Standardize the data\n",
    "*   Split into training data and test data\n",
    "\n",
    "\\-Find best Hyperparameter for SVM, Classification Trees and Logistic Regression\n",
    "\n",
    "*   Find the method performs best using test data\n"
   ]
  },
  {
   "cell_type": "markdown",
   "metadata": {},
   "source": [
    "## Import Libraries and Define Auxiliary Functions\n"
   ]
  },
  {
   "cell_type": "markdown",
   "metadata": {},
   "source": [
    "We will import the following libraries for the lab\n"
   ]
  },
  {
   "cell_type": "code",
   "execution_count": 2,
   "metadata": {},
   "outputs": [],
   "source": [
    "# Pandas is a software library written for the Python programming language for data manipulation and analysis.\n",
    "import pandas as pd\n",
    "# NumPy is a library for the Python programming language, adding support for large, multi-dimensional arrays and matrices, along with a large collection of high-level mathematical functions to operate on these arrays\n",
    "import numpy as np\n",
    "# Matplotlib is a plotting library for python and pyplot gives us a MatLab like plotting framework. We will use this in our plotter function to plot data.\n",
    "import matplotlib.pyplot as plt\n",
    "#Seaborn is a Python data visualization library based on matplotlib. It provides a high-level interface for drawing attractive and informative statistical graphics\n",
    "import seaborn as sns\n",
    "# Preprocessing allows us to standarsize our data\n",
    "from sklearn import preprocessing\n",
    "# Allows us to split our data into training and testing data\n",
    "from sklearn.model_selection import train_test_split\n",
    "# Allows us to test parameters of classification algorithms and find the best one\n",
    "from sklearn.model_selection import GridSearchCV\n",
    "# Logistic Regression classification algorithm\n",
    "from sklearn.linear_model import LogisticRegression\n",
    "# Support Vector Machine classification algorithm\n",
    "from sklearn.svm import SVC\n",
    "# Decision Tree classification algorithm\n",
    "from sklearn.tree import DecisionTreeClassifier\n",
    "# K Nearest Neighbors classification algorithm\n",
    "from sklearn.neighbors import KNeighborsClassifier"
   ]
  },
  {
   "cell_type": "markdown",
   "metadata": {},
   "source": [
    "This function is to plot the confusion matrix.\n"
   ]
  },
  {
   "cell_type": "code",
   "execution_count": 3,
   "metadata": {},
   "outputs": [],
   "source": [
    "def plot_confusion_matrix(y,y_predict):\n",
    "    \"this function plots the confusion matrix\"\n",
    "    from sklearn.metrics import confusion_matrix\n",
    "\n",
    "    cm = confusion_matrix(y, y_predict)\n",
    "    ax= plt.subplot()\n",
    "    sns.heatmap(cm, annot=True, ax = ax); #annot=True to annotate cells\n",
    "    ax.set_xlabel('Predicted labels')\n",
    "    ax.set_ylabel('True labels')\n",
    "    ax.set_title('Confusion Matrix'); \n",
    "    ax.xaxis.set_ticklabels(['did not land', 'land']); ax.yaxis.set_ticklabels(['did not land', 'landed']) \n",
    "    plt.show() "
   ]
  },
  {
   "cell_type": "markdown",
   "metadata": {},
   "source": [
    "## Load the dataframe\n"
   ]
  },
  {
   "cell_type": "markdown",
   "metadata": {},
   "source": [
    "Load the data\n"
   ]
  },
  {
   "cell_type": "code",
   "execution_count": 4,
   "metadata": {},
   "outputs": [],
   "source": [
    "\n",
    "URL1 = \"https://cf-courses-data.s3.us.cloud-object-storage.appdomain.cloud/IBM-DS0321EN-SkillsNetwork/datasets/dataset_part_2.csv\"\n",
    "\n",
    "data = pd.read_csv(URL1)"
   ]
  },
  {
   "cell_type": "code",
   "execution_count": 5,
   "metadata": {},
   "outputs": [
    {
     "data": {
      "text/html": [
       "<div>\n",
       "<style scoped>\n",
       "    .dataframe tbody tr th:only-of-type {\n",
       "        vertical-align: middle;\n",
       "    }\n",
       "\n",
       "    .dataframe tbody tr th {\n",
       "        vertical-align: top;\n",
       "    }\n",
       "\n",
       "    .dataframe thead th {\n",
       "        text-align: right;\n",
       "    }\n",
       "</style>\n",
       "<table border=\"1\" class=\"dataframe\">\n",
       "  <thead>\n",
       "    <tr style=\"text-align: right;\">\n",
       "      <th></th>\n",
       "      <th>FlightNumber</th>\n",
       "      <th>Date</th>\n",
       "      <th>BoosterVersion</th>\n",
       "      <th>PayloadMass</th>\n",
       "      <th>Orbit</th>\n",
       "      <th>LaunchSite</th>\n",
       "      <th>Outcome</th>\n",
       "      <th>Flights</th>\n",
       "      <th>GridFins</th>\n",
       "      <th>Reused</th>\n",
       "      <th>Legs</th>\n",
       "      <th>LandingPad</th>\n",
       "      <th>Block</th>\n",
       "      <th>ReusedCount</th>\n",
       "      <th>Serial</th>\n",
       "      <th>Longitude</th>\n",
       "      <th>Latitude</th>\n",
       "      <th>Class</th>\n",
       "    </tr>\n",
       "  </thead>\n",
       "  <tbody>\n",
       "    <tr>\n",
       "      <th>0</th>\n",
       "      <td>1</td>\n",
       "      <td>2010-06-04</td>\n",
       "      <td>Falcon 9</td>\n",
       "      <td>6104.959412</td>\n",
       "      <td>LEO</td>\n",
       "      <td>CCAFS SLC 40</td>\n",
       "      <td>None None</td>\n",
       "      <td>1</td>\n",
       "      <td>False</td>\n",
       "      <td>False</td>\n",
       "      <td>False</td>\n",
       "      <td>NaN</td>\n",
       "      <td>1.0</td>\n",
       "      <td>0</td>\n",
       "      <td>B0003</td>\n",
       "      <td>-80.577366</td>\n",
       "      <td>28.561857</td>\n",
       "      <td>0</td>\n",
       "    </tr>\n",
       "    <tr>\n",
       "      <th>1</th>\n",
       "      <td>2</td>\n",
       "      <td>2012-05-22</td>\n",
       "      <td>Falcon 9</td>\n",
       "      <td>525.000000</td>\n",
       "      <td>LEO</td>\n",
       "      <td>CCAFS SLC 40</td>\n",
       "      <td>None None</td>\n",
       "      <td>1</td>\n",
       "      <td>False</td>\n",
       "      <td>False</td>\n",
       "      <td>False</td>\n",
       "      <td>NaN</td>\n",
       "      <td>1.0</td>\n",
       "      <td>0</td>\n",
       "      <td>B0005</td>\n",
       "      <td>-80.577366</td>\n",
       "      <td>28.561857</td>\n",
       "      <td>0</td>\n",
       "    </tr>\n",
       "    <tr>\n",
       "      <th>2</th>\n",
       "      <td>3</td>\n",
       "      <td>2013-03-01</td>\n",
       "      <td>Falcon 9</td>\n",
       "      <td>677.000000</td>\n",
       "      <td>ISS</td>\n",
       "      <td>CCAFS SLC 40</td>\n",
       "      <td>None None</td>\n",
       "      <td>1</td>\n",
       "      <td>False</td>\n",
       "      <td>False</td>\n",
       "      <td>False</td>\n",
       "      <td>NaN</td>\n",
       "      <td>1.0</td>\n",
       "      <td>0</td>\n",
       "      <td>B0007</td>\n",
       "      <td>-80.577366</td>\n",
       "      <td>28.561857</td>\n",
       "      <td>0</td>\n",
       "    </tr>\n",
       "    <tr>\n",
       "      <th>3</th>\n",
       "      <td>4</td>\n",
       "      <td>2013-09-29</td>\n",
       "      <td>Falcon 9</td>\n",
       "      <td>500.000000</td>\n",
       "      <td>PO</td>\n",
       "      <td>VAFB SLC 4E</td>\n",
       "      <td>False Ocean</td>\n",
       "      <td>1</td>\n",
       "      <td>False</td>\n",
       "      <td>False</td>\n",
       "      <td>False</td>\n",
       "      <td>NaN</td>\n",
       "      <td>1.0</td>\n",
       "      <td>0</td>\n",
       "      <td>B1003</td>\n",
       "      <td>-120.610829</td>\n",
       "      <td>34.632093</td>\n",
       "      <td>0</td>\n",
       "    </tr>\n",
       "    <tr>\n",
       "      <th>4</th>\n",
       "      <td>5</td>\n",
       "      <td>2013-12-03</td>\n",
       "      <td>Falcon 9</td>\n",
       "      <td>3170.000000</td>\n",
       "      <td>GTO</td>\n",
       "      <td>CCAFS SLC 40</td>\n",
       "      <td>None None</td>\n",
       "      <td>1</td>\n",
       "      <td>False</td>\n",
       "      <td>False</td>\n",
       "      <td>False</td>\n",
       "      <td>NaN</td>\n",
       "      <td>1.0</td>\n",
       "      <td>0</td>\n",
       "      <td>B1004</td>\n",
       "      <td>-80.577366</td>\n",
       "      <td>28.561857</td>\n",
       "      <td>0</td>\n",
       "    </tr>\n",
       "  </tbody>\n",
       "</table>\n",
       "</div>"
      ],
      "text/plain": [
       "   FlightNumber        Date BoosterVersion  PayloadMass Orbit    LaunchSite  \\\n",
       "0             1  2010-06-04       Falcon 9  6104.959412   LEO  CCAFS SLC 40   \n",
       "1             2  2012-05-22       Falcon 9   525.000000   LEO  CCAFS SLC 40   \n",
       "2             3  2013-03-01       Falcon 9   677.000000   ISS  CCAFS SLC 40   \n",
       "3             4  2013-09-29       Falcon 9   500.000000    PO   VAFB SLC 4E   \n",
       "4             5  2013-12-03       Falcon 9  3170.000000   GTO  CCAFS SLC 40   \n",
       "\n",
       "       Outcome  Flights  GridFins  Reused   Legs LandingPad  Block  \\\n",
       "0    None None        1     False   False  False        NaN    1.0   \n",
       "1    None None        1     False   False  False        NaN    1.0   \n",
       "2    None None        1     False   False  False        NaN    1.0   \n",
       "3  False Ocean        1     False   False  False        NaN    1.0   \n",
       "4    None None        1     False   False  False        NaN    1.0   \n",
       "\n",
       "   ReusedCount Serial   Longitude   Latitude  Class  \n",
       "0            0  B0003  -80.577366  28.561857      0  \n",
       "1            0  B0005  -80.577366  28.561857      0  \n",
       "2            0  B0007  -80.577366  28.561857      0  \n",
       "3            0  B1003 -120.610829  34.632093      0  \n",
       "4            0  B1004  -80.577366  28.561857      0  "
      ]
     },
     "execution_count": 5,
     "metadata": {},
     "output_type": "execute_result"
    }
   ],
   "source": [
    "data.head()"
   ]
  },
  {
   "cell_type": "code",
   "execution_count": 6,
   "metadata": {},
   "outputs": [],
   "source": [
    "URL2 = 'https://cf-courses-data.s3.us.cloud-object-storage.appdomain.cloud/IBM-DS0321EN-SkillsNetwork/datasets/dataset_part_3.csv'\n",
    "\n",
    "X = pd.read_csv(URL2)"
   ]
  },
  {
   "cell_type": "code",
   "execution_count": 7,
   "metadata": {},
   "outputs": [
    {
     "data": {
      "text/html": [
       "<div>\n",
       "<style scoped>\n",
       "    .dataframe tbody tr th:only-of-type {\n",
       "        vertical-align: middle;\n",
       "    }\n",
       "\n",
       "    .dataframe tbody tr th {\n",
       "        vertical-align: top;\n",
       "    }\n",
       "\n",
       "    .dataframe thead th {\n",
       "        text-align: right;\n",
       "    }\n",
       "</style>\n",
       "<table border=\"1\" class=\"dataframe\">\n",
       "  <thead>\n",
       "    <tr style=\"text-align: right;\">\n",
       "      <th></th>\n",
       "      <th>FlightNumber</th>\n",
       "      <th>PayloadMass</th>\n",
       "      <th>Flights</th>\n",
       "      <th>Block</th>\n",
       "      <th>ReusedCount</th>\n",
       "      <th>Orbit_ES-L1</th>\n",
       "      <th>Orbit_GEO</th>\n",
       "      <th>Orbit_GTO</th>\n",
       "      <th>Orbit_HEO</th>\n",
       "      <th>Orbit_ISS</th>\n",
       "      <th>...</th>\n",
       "      <th>Serial_B1058</th>\n",
       "      <th>Serial_B1059</th>\n",
       "      <th>Serial_B1060</th>\n",
       "      <th>Serial_B1062</th>\n",
       "      <th>GridFins_False</th>\n",
       "      <th>GridFins_True</th>\n",
       "      <th>Reused_False</th>\n",
       "      <th>Reused_True</th>\n",
       "      <th>Legs_False</th>\n",
       "      <th>Legs_True</th>\n",
       "    </tr>\n",
       "  </thead>\n",
       "  <tbody>\n",
       "    <tr>\n",
       "      <th>0</th>\n",
       "      <td>1.0</td>\n",
       "      <td>6104.959412</td>\n",
       "      <td>1.0</td>\n",
       "      <td>1.0</td>\n",
       "      <td>0.0</td>\n",
       "      <td>0.0</td>\n",
       "      <td>0.0</td>\n",
       "      <td>0.0</td>\n",
       "      <td>0.0</td>\n",
       "      <td>0.0</td>\n",
       "      <td>...</td>\n",
       "      <td>0.0</td>\n",
       "      <td>0.0</td>\n",
       "      <td>0.0</td>\n",
       "      <td>0.0</td>\n",
       "      <td>1.0</td>\n",
       "      <td>0.0</td>\n",
       "      <td>1.0</td>\n",
       "      <td>0.0</td>\n",
       "      <td>1.0</td>\n",
       "      <td>0.0</td>\n",
       "    </tr>\n",
       "    <tr>\n",
       "      <th>1</th>\n",
       "      <td>2.0</td>\n",
       "      <td>525.000000</td>\n",
       "      <td>1.0</td>\n",
       "      <td>1.0</td>\n",
       "      <td>0.0</td>\n",
       "      <td>0.0</td>\n",
       "      <td>0.0</td>\n",
       "      <td>0.0</td>\n",
       "      <td>0.0</td>\n",
       "      <td>0.0</td>\n",
       "      <td>...</td>\n",
       "      <td>0.0</td>\n",
       "      <td>0.0</td>\n",
       "      <td>0.0</td>\n",
       "      <td>0.0</td>\n",
       "      <td>1.0</td>\n",
       "      <td>0.0</td>\n",
       "      <td>1.0</td>\n",
       "      <td>0.0</td>\n",
       "      <td>1.0</td>\n",
       "      <td>0.0</td>\n",
       "    </tr>\n",
       "    <tr>\n",
       "      <th>2</th>\n",
       "      <td>3.0</td>\n",
       "      <td>677.000000</td>\n",
       "      <td>1.0</td>\n",
       "      <td>1.0</td>\n",
       "      <td>0.0</td>\n",
       "      <td>0.0</td>\n",
       "      <td>0.0</td>\n",
       "      <td>0.0</td>\n",
       "      <td>0.0</td>\n",
       "      <td>1.0</td>\n",
       "      <td>...</td>\n",
       "      <td>0.0</td>\n",
       "      <td>0.0</td>\n",
       "      <td>0.0</td>\n",
       "      <td>0.0</td>\n",
       "      <td>1.0</td>\n",
       "      <td>0.0</td>\n",
       "      <td>1.0</td>\n",
       "      <td>0.0</td>\n",
       "      <td>1.0</td>\n",
       "      <td>0.0</td>\n",
       "    </tr>\n",
       "    <tr>\n",
       "      <th>3</th>\n",
       "      <td>4.0</td>\n",
       "      <td>500.000000</td>\n",
       "      <td>1.0</td>\n",
       "      <td>1.0</td>\n",
       "      <td>0.0</td>\n",
       "      <td>0.0</td>\n",
       "      <td>0.0</td>\n",
       "      <td>0.0</td>\n",
       "      <td>0.0</td>\n",
       "      <td>0.0</td>\n",
       "      <td>...</td>\n",
       "      <td>0.0</td>\n",
       "      <td>0.0</td>\n",
       "      <td>0.0</td>\n",
       "      <td>0.0</td>\n",
       "      <td>1.0</td>\n",
       "      <td>0.0</td>\n",
       "      <td>1.0</td>\n",
       "      <td>0.0</td>\n",
       "      <td>1.0</td>\n",
       "      <td>0.0</td>\n",
       "    </tr>\n",
       "    <tr>\n",
       "      <th>4</th>\n",
       "      <td>5.0</td>\n",
       "      <td>3170.000000</td>\n",
       "      <td>1.0</td>\n",
       "      <td>1.0</td>\n",
       "      <td>0.0</td>\n",
       "      <td>0.0</td>\n",
       "      <td>0.0</td>\n",
       "      <td>1.0</td>\n",
       "      <td>0.0</td>\n",
       "      <td>0.0</td>\n",
       "      <td>...</td>\n",
       "      <td>0.0</td>\n",
       "      <td>0.0</td>\n",
       "      <td>0.0</td>\n",
       "      <td>0.0</td>\n",
       "      <td>1.0</td>\n",
       "      <td>0.0</td>\n",
       "      <td>1.0</td>\n",
       "      <td>0.0</td>\n",
       "      <td>1.0</td>\n",
       "      <td>0.0</td>\n",
       "    </tr>\n",
       "    <tr>\n",
       "      <th>...</th>\n",
       "      <td>...</td>\n",
       "      <td>...</td>\n",
       "      <td>...</td>\n",
       "      <td>...</td>\n",
       "      <td>...</td>\n",
       "      <td>...</td>\n",
       "      <td>...</td>\n",
       "      <td>...</td>\n",
       "      <td>...</td>\n",
       "      <td>...</td>\n",
       "      <td>...</td>\n",
       "      <td>...</td>\n",
       "      <td>...</td>\n",
       "      <td>...</td>\n",
       "      <td>...</td>\n",
       "      <td>...</td>\n",
       "      <td>...</td>\n",
       "      <td>...</td>\n",
       "      <td>...</td>\n",
       "      <td>...</td>\n",
       "      <td>...</td>\n",
       "    </tr>\n",
       "    <tr>\n",
       "      <th>85</th>\n",
       "      <td>86.0</td>\n",
       "      <td>15400.000000</td>\n",
       "      <td>2.0</td>\n",
       "      <td>5.0</td>\n",
       "      <td>2.0</td>\n",
       "      <td>0.0</td>\n",
       "      <td>0.0</td>\n",
       "      <td>0.0</td>\n",
       "      <td>0.0</td>\n",
       "      <td>0.0</td>\n",
       "      <td>...</td>\n",
       "      <td>0.0</td>\n",
       "      <td>0.0</td>\n",
       "      <td>1.0</td>\n",
       "      <td>0.0</td>\n",
       "      <td>0.0</td>\n",
       "      <td>1.0</td>\n",
       "      <td>0.0</td>\n",
       "      <td>1.0</td>\n",
       "      <td>0.0</td>\n",
       "      <td>1.0</td>\n",
       "    </tr>\n",
       "    <tr>\n",
       "      <th>86</th>\n",
       "      <td>87.0</td>\n",
       "      <td>15400.000000</td>\n",
       "      <td>3.0</td>\n",
       "      <td>5.0</td>\n",
       "      <td>2.0</td>\n",
       "      <td>0.0</td>\n",
       "      <td>0.0</td>\n",
       "      <td>0.0</td>\n",
       "      <td>0.0</td>\n",
       "      <td>0.0</td>\n",
       "      <td>...</td>\n",
       "      <td>1.0</td>\n",
       "      <td>0.0</td>\n",
       "      <td>0.0</td>\n",
       "      <td>0.0</td>\n",
       "      <td>0.0</td>\n",
       "      <td>1.0</td>\n",
       "      <td>0.0</td>\n",
       "      <td>1.0</td>\n",
       "      <td>0.0</td>\n",
       "      <td>1.0</td>\n",
       "    </tr>\n",
       "    <tr>\n",
       "      <th>87</th>\n",
       "      <td>88.0</td>\n",
       "      <td>15400.000000</td>\n",
       "      <td>6.0</td>\n",
       "      <td>5.0</td>\n",
       "      <td>5.0</td>\n",
       "      <td>0.0</td>\n",
       "      <td>0.0</td>\n",
       "      <td>0.0</td>\n",
       "      <td>0.0</td>\n",
       "      <td>0.0</td>\n",
       "      <td>...</td>\n",
       "      <td>0.0</td>\n",
       "      <td>0.0</td>\n",
       "      <td>0.0</td>\n",
       "      <td>0.0</td>\n",
       "      <td>0.0</td>\n",
       "      <td>1.0</td>\n",
       "      <td>0.0</td>\n",
       "      <td>1.0</td>\n",
       "      <td>0.0</td>\n",
       "      <td>1.0</td>\n",
       "    </tr>\n",
       "    <tr>\n",
       "      <th>88</th>\n",
       "      <td>89.0</td>\n",
       "      <td>15400.000000</td>\n",
       "      <td>3.0</td>\n",
       "      <td>5.0</td>\n",
       "      <td>2.0</td>\n",
       "      <td>0.0</td>\n",
       "      <td>0.0</td>\n",
       "      <td>0.0</td>\n",
       "      <td>0.0</td>\n",
       "      <td>0.0</td>\n",
       "      <td>...</td>\n",
       "      <td>0.0</td>\n",
       "      <td>0.0</td>\n",
       "      <td>1.0</td>\n",
       "      <td>0.0</td>\n",
       "      <td>0.0</td>\n",
       "      <td>1.0</td>\n",
       "      <td>0.0</td>\n",
       "      <td>1.0</td>\n",
       "      <td>0.0</td>\n",
       "      <td>1.0</td>\n",
       "    </tr>\n",
       "    <tr>\n",
       "      <th>89</th>\n",
       "      <td>90.0</td>\n",
       "      <td>3681.000000</td>\n",
       "      <td>1.0</td>\n",
       "      <td>5.0</td>\n",
       "      <td>0.0</td>\n",
       "      <td>0.0</td>\n",
       "      <td>0.0</td>\n",
       "      <td>0.0</td>\n",
       "      <td>0.0</td>\n",
       "      <td>0.0</td>\n",
       "      <td>...</td>\n",
       "      <td>0.0</td>\n",
       "      <td>0.0</td>\n",
       "      <td>0.0</td>\n",
       "      <td>1.0</td>\n",
       "      <td>0.0</td>\n",
       "      <td>1.0</td>\n",
       "      <td>1.0</td>\n",
       "      <td>0.0</td>\n",
       "      <td>0.0</td>\n",
       "      <td>1.0</td>\n",
       "    </tr>\n",
       "  </tbody>\n",
       "</table>\n",
       "<p>90 rows × 83 columns</p>\n",
       "</div>"
      ],
      "text/plain": [
       "    FlightNumber   PayloadMass  Flights  Block  ReusedCount  Orbit_ES-L1  \\\n",
       "0            1.0   6104.959412      1.0    1.0          0.0          0.0   \n",
       "1            2.0    525.000000      1.0    1.0          0.0          0.0   \n",
       "2            3.0    677.000000      1.0    1.0          0.0          0.0   \n",
       "3            4.0    500.000000      1.0    1.0          0.0          0.0   \n",
       "4            5.0   3170.000000      1.0    1.0          0.0          0.0   \n",
       "..           ...           ...      ...    ...          ...          ...   \n",
       "85          86.0  15400.000000      2.0    5.0          2.0          0.0   \n",
       "86          87.0  15400.000000      3.0    5.0          2.0          0.0   \n",
       "87          88.0  15400.000000      6.0    5.0          5.0          0.0   \n",
       "88          89.0  15400.000000      3.0    5.0          2.0          0.0   \n",
       "89          90.0   3681.000000      1.0    5.0          0.0          0.0   \n",
       "\n",
       "    Orbit_GEO  Orbit_GTO  Orbit_HEO  Orbit_ISS  ...  Serial_B1058  \\\n",
       "0         0.0        0.0        0.0        0.0  ...           0.0   \n",
       "1         0.0        0.0        0.0        0.0  ...           0.0   \n",
       "2         0.0        0.0        0.0        1.0  ...           0.0   \n",
       "3         0.0        0.0        0.0        0.0  ...           0.0   \n",
       "4         0.0        1.0        0.0        0.0  ...           0.0   \n",
       "..        ...        ...        ...        ...  ...           ...   \n",
       "85        0.0        0.0        0.0        0.0  ...           0.0   \n",
       "86        0.0        0.0        0.0        0.0  ...           1.0   \n",
       "87        0.0        0.0        0.0        0.0  ...           0.0   \n",
       "88        0.0        0.0        0.0        0.0  ...           0.0   \n",
       "89        0.0        0.0        0.0        0.0  ...           0.0   \n",
       "\n",
       "    Serial_B1059  Serial_B1060  Serial_B1062  GridFins_False  GridFins_True  \\\n",
       "0            0.0           0.0           0.0             1.0            0.0   \n",
       "1            0.0           0.0           0.0             1.0            0.0   \n",
       "2            0.0           0.0           0.0             1.0            0.0   \n",
       "3            0.0           0.0           0.0             1.0            0.0   \n",
       "4            0.0           0.0           0.0             1.0            0.0   \n",
       "..           ...           ...           ...             ...            ...   \n",
       "85           0.0           1.0           0.0             0.0            1.0   \n",
       "86           0.0           0.0           0.0             0.0            1.0   \n",
       "87           0.0           0.0           0.0             0.0            1.0   \n",
       "88           0.0           1.0           0.0             0.0            1.0   \n",
       "89           0.0           0.0           1.0             0.0            1.0   \n",
       "\n",
       "    Reused_False  Reused_True  Legs_False  Legs_True  \n",
       "0            1.0          0.0         1.0        0.0  \n",
       "1            1.0          0.0         1.0        0.0  \n",
       "2            1.0          0.0         1.0        0.0  \n",
       "3            1.0          0.0         1.0        0.0  \n",
       "4            1.0          0.0         1.0        0.0  \n",
       "..           ...          ...         ...        ...  \n",
       "85           0.0          1.0         0.0        1.0  \n",
       "86           0.0          1.0         0.0        1.0  \n",
       "87           0.0          1.0         0.0        1.0  \n",
       "88           0.0          1.0         0.0        1.0  \n",
       "89           1.0          0.0         0.0        1.0  \n",
       "\n",
       "[90 rows x 83 columns]"
      ]
     },
     "execution_count": 7,
     "metadata": {},
     "output_type": "execute_result"
    }
   ],
   "source": [
    "X.head(100)"
   ]
  },
  {
   "cell_type": "markdown",
   "metadata": {},
   "source": [
    "## TASK  1\n"
   ]
  },
  {
   "cell_type": "markdown",
   "metadata": {},
   "source": [
    "Create a NumPy array from the column <code>Class</code> in <code>data</code>, by applying the method <code>to_numpy()</code>  then\n",
    "assign it  to the variable <code>Y</code>,make sure the output is a  Pandas series (only one bracket df\\['name of  column']).\n"
   ]
  },
  {
   "cell_type": "code",
   "execution_count": 8,
   "metadata": {},
   "outputs": [],
   "source": [
    "Y = pd.Series(data['Class'].to_numpy())"
   ]
  },
  {
   "cell_type": "markdown",
   "metadata": {},
   "source": [
    "## TASK  2\n"
   ]
  },
  {
   "cell_type": "markdown",
   "metadata": {},
   "source": [
    "Standardize the data in <code>X</code> then reassign it to the variable  <code>X</code> using the transform provided below.\n"
   ]
  },
  {
   "cell_type": "code",
   "execution_count": 9,
   "metadata": {},
   "outputs": [],
   "source": [
    "# students get this \n",
    "transform = preprocessing.StandardScaler()\n",
    "X = transform.fit_transform(X)"
   ]
  },
  {
   "cell_type": "markdown",
   "metadata": {},
   "source": [
    "We split the data into training and testing data using the  function  <code>train_test_split</code>.   The training data is divided into validation data, a second set used for training  data; then the models are trained and hyperparameters are selected using the function <code>GridSearchCV</code>.\n"
   ]
  },
  {
   "cell_type": "markdown",
   "metadata": {},
   "source": [
    "## TASK  3\n"
   ]
  },
  {
   "cell_type": "markdown",
   "metadata": {},
   "source": [
    "Use the function train_test_split to split the data X and Y into training and test data. Set the parameter test_size to  0.2 and random_state to 2. The training data and test data should be assigned to the following labels.\n"
   ]
  },
  {
   "cell_type": "markdown",
   "metadata": {},
   "source": [
    "<code>X_train, X_test, Y_train, Y_test</code>\n"
   ]
  },
  {
   "cell_type": "code",
   "execution_count": 10,
   "metadata": {},
   "outputs": [],
   "source": [
    "X_train, X_test, Y_train, Y_test = train_test_split(X, Y, test_size=0.2, random_state=2)"
   ]
  },
  {
   "cell_type": "markdown",
   "metadata": {},
   "source": [
    "we can see we only have 18 test samples.\n"
   ]
  },
  {
   "cell_type": "code",
   "execution_count": 11,
   "metadata": {},
   "outputs": [
    {
     "data": {
      "text/plain": [
       "(18,)"
      ]
     },
     "execution_count": 11,
     "metadata": {},
     "output_type": "execute_result"
    }
   ],
   "source": [
    "Y_test.shape"
   ]
  },
  {
   "cell_type": "markdown",
   "metadata": {},
   "source": [
    "## TASK  4\n"
   ]
  },
  {
   "cell_type": "markdown",
   "metadata": {},
   "source": [
    "Create a logistic regression object  then create a  GridSearchCV object  <code>logreg_cv</code> with cv = 10.  Fit the object to find the best parameters from the dictionary <code>parameters</code>.\n"
   ]
  },
  {
   "cell_type": "code",
   "execution_count": 21,
   "metadata": {},
   "outputs": [
    {
     "data": {
      "text/html": [
       "<style>#sk-container-id-1 {color: black;}#sk-container-id-1 pre{padding: 0;}#sk-container-id-1 div.sk-toggleable {background-color: white;}#sk-container-id-1 label.sk-toggleable__label {cursor: pointer;display: block;width: 100%;margin-bottom: 0;padding: 0.3em;box-sizing: border-box;text-align: center;}#sk-container-id-1 label.sk-toggleable__label-arrow:before {content: \"▸\";float: left;margin-right: 0.25em;color: #696969;}#sk-container-id-1 label.sk-toggleable__label-arrow:hover:before {color: black;}#sk-container-id-1 div.sk-estimator:hover label.sk-toggleable__label-arrow:before {color: black;}#sk-container-id-1 div.sk-toggleable__content {max-height: 0;max-width: 0;overflow: hidden;text-align: left;background-color: #f0f8ff;}#sk-container-id-1 div.sk-toggleable__content pre {margin: 0.2em;color: black;border-radius: 0.25em;background-color: #f0f8ff;}#sk-container-id-1 input.sk-toggleable__control:checked~div.sk-toggleable__content {max-height: 200px;max-width: 100%;overflow: auto;}#sk-container-id-1 input.sk-toggleable__control:checked~label.sk-toggleable__label-arrow:before {content: \"▾\";}#sk-container-id-1 div.sk-estimator input.sk-toggleable__control:checked~label.sk-toggleable__label {background-color: #d4ebff;}#sk-container-id-1 div.sk-label input.sk-toggleable__control:checked~label.sk-toggleable__label {background-color: #d4ebff;}#sk-container-id-1 input.sk-hidden--visually {border: 0;clip: rect(1px 1px 1px 1px);clip: rect(1px, 1px, 1px, 1px);height: 1px;margin: -1px;overflow: hidden;padding: 0;position: absolute;width: 1px;}#sk-container-id-1 div.sk-estimator {font-family: monospace;background-color: #f0f8ff;border: 1px dotted black;border-radius: 0.25em;box-sizing: border-box;margin-bottom: 0.5em;}#sk-container-id-1 div.sk-estimator:hover {background-color: #d4ebff;}#sk-container-id-1 div.sk-parallel-item::after {content: \"\";width: 100%;border-bottom: 1px solid gray;flex-grow: 1;}#sk-container-id-1 div.sk-label:hover label.sk-toggleable__label {background-color: #d4ebff;}#sk-container-id-1 div.sk-serial::before {content: \"\";position: absolute;border-left: 1px solid gray;box-sizing: border-box;top: 0;bottom: 0;left: 50%;z-index: 0;}#sk-container-id-1 div.sk-serial {display: flex;flex-direction: column;align-items: center;background-color: white;padding-right: 0.2em;padding-left: 0.2em;position: relative;}#sk-container-id-1 div.sk-item {position: relative;z-index: 1;}#sk-container-id-1 div.sk-parallel {display: flex;align-items: stretch;justify-content: center;background-color: white;position: relative;}#sk-container-id-1 div.sk-item::before, #sk-container-id-1 div.sk-parallel-item::before {content: \"\";position: absolute;border-left: 1px solid gray;box-sizing: border-box;top: 0;bottom: 0;left: 50%;z-index: -1;}#sk-container-id-1 div.sk-parallel-item {display: flex;flex-direction: column;z-index: 1;position: relative;background-color: white;}#sk-container-id-1 div.sk-parallel-item:first-child::after {align-self: flex-end;width: 50%;}#sk-container-id-1 div.sk-parallel-item:last-child::after {align-self: flex-start;width: 50%;}#sk-container-id-1 div.sk-parallel-item:only-child::after {width: 0;}#sk-container-id-1 div.sk-dashed-wrapped {border: 1px dashed gray;margin: 0 0.4em 0.5em 0.4em;box-sizing: border-box;padding-bottom: 0.4em;background-color: white;}#sk-container-id-1 div.sk-label label {font-family: monospace;font-weight: bold;display: inline-block;line-height: 1.2em;}#sk-container-id-1 div.sk-label-container {text-align: center;}#sk-container-id-1 div.sk-container {/* jupyter's `normalize.less` sets `[hidden] { display: none; }` but bootstrap.min.css set `[hidden] { display: none !important; }` so we also need the `!important` here to be able to override the default hidden behavior on the sphinx rendered scikit-learn.org. See: https://github.com/scikit-learn/scikit-learn/issues/21755 */display: inline-block !important;position: relative;}#sk-container-id-1 div.sk-text-repr-fallback {display: none;}</style><div id=\"sk-container-id-1\" class=\"sk-top-container\"><div class=\"sk-text-repr-fallback\"><pre>GridSearchCV(cv=10, estimator=LogisticRegression(),\n",
       "             param_grid={&#x27;C&#x27;: [0.01, 0.1, 1], &#x27;penalty&#x27;: [&#x27;l2&#x27;],\n",
       "                         &#x27;solver&#x27;: [&#x27;lbfgs&#x27;]})</pre><b>In a Jupyter environment, please rerun this cell to show the HTML representation or trust the notebook. <br />On GitHub, the HTML representation is unable to render, please try loading this page with nbviewer.org.</b></div><div class=\"sk-container\" hidden><div class=\"sk-item sk-dashed-wrapped\"><div class=\"sk-label-container\"><div class=\"sk-label sk-toggleable\"><input class=\"sk-toggleable__control sk-hidden--visually\" id=\"sk-estimator-id-1\" type=\"checkbox\" ><label for=\"sk-estimator-id-1\" class=\"sk-toggleable__label sk-toggleable__label-arrow\">GridSearchCV</label><div class=\"sk-toggleable__content\"><pre>GridSearchCV(cv=10, estimator=LogisticRegression(),\n",
       "             param_grid={&#x27;C&#x27;: [0.01, 0.1, 1], &#x27;penalty&#x27;: [&#x27;l2&#x27;],\n",
       "                         &#x27;solver&#x27;: [&#x27;lbfgs&#x27;]})</pre></div></div></div><div class=\"sk-parallel\"><div class=\"sk-parallel-item\"><div class=\"sk-item\"><div class=\"sk-label-container\"><div class=\"sk-label sk-toggleable\"><input class=\"sk-toggleable__control sk-hidden--visually\" id=\"sk-estimator-id-2\" type=\"checkbox\" ><label for=\"sk-estimator-id-2\" class=\"sk-toggleable__label sk-toggleable__label-arrow\">estimator: LogisticRegression</label><div class=\"sk-toggleable__content\"><pre>LogisticRegression()</pre></div></div></div><div class=\"sk-serial\"><div class=\"sk-item\"><div class=\"sk-estimator sk-toggleable\"><input class=\"sk-toggleable__control sk-hidden--visually\" id=\"sk-estimator-id-3\" type=\"checkbox\" ><label for=\"sk-estimator-id-3\" class=\"sk-toggleable__label sk-toggleable__label-arrow\">LogisticRegression</label><div class=\"sk-toggleable__content\"><pre>LogisticRegression()</pre></div></div></div></div></div></div></div></div></div></div>"
      ],
      "text/plain": [
       "GridSearchCV(cv=10, estimator=LogisticRegression(),\n",
       "             param_grid={'C': [0.01, 0.1, 1], 'penalty': ['l2'],\n",
       "                         'solver': ['lbfgs']})"
      ]
     },
     "execution_count": 21,
     "metadata": {},
     "output_type": "execute_result"
    }
   ],
   "source": [
    "# Create logistic regression object\n",
    "logreg = LogisticRegression()\n",
    "\n",
    "# Define parameters for grid search\n",
    "parameters = {'C': [0.01, 0.1, 1],\n",
    "              'penalty': ['l2'],\n",
    "              'solver': ['lbfgs']}\n",
    "\n",
    "# Create GridSearchCV object\n",
    "logreg_cv = GridSearchCV(logreg, parameters, cv=10)\n",
    "# Fit the GridSearchCV object to find the best parameters\n",
    "logreg_cv.fit(X_train, Y_train)\n"
   ]
  },
  {
   "cell_type": "code",
   "execution_count": 22,
   "metadata": {},
   "outputs": [],
   "source": [
    "parameters ={\"C\":[0.01,0.1,1],'penalty':['l2'], 'solver':['lbfgs']}# l1 lasso l2 ridge\n",
    "lr=LogisticRegression()\n"
   ]
  },
  {
   "cell_type": "markdown",
   "metadata": {},
   "source": [
    "We output the <code>GridSearchCV</code> object for logistic regression. We display the best parameters using the data attribute <code>best_params\\_</code> and the accuracy on the validation data using the data attribute <code>best_score\\_</code>.\n"
   ]
  },
  {
   "cell_type": "code",
   "execution_count": 23,
   "metadata": {},
   "outputs": [
    {
     "name": "stdout",
     "output_type": "stream",
     "text": [
      "tuned hpyerparameters :(best parameters)  {'C': 0.01, 'penalty': 'l2', 'solver': 'lbfgs'}\n",
      "accuracy : 0.8464285714285713\n"
     ]
    }
   ],
   "source": [
    "print(\"tuned hpyerparameters :(best parameters) \",logreg_cv.best_params_)\n",
    "print(\"accuracy :\",logreg_cv.best_score_)"
   ]
  },
  {
   "cell_type": "markdown",
   "metadata": {},
   "source": [
    "## TASK  5\n"
   ]
  },
  {
   "cell_type": "markdown",
   "metadata": {},
   "source": [
    "Calculate the accuracy on the test data using the method <code>score</code>:\n"
   ]
  },
  {
   "cell_type": "code",
   "execution_count": 24,
   "metadata": {},
   "outputs": [
    {
     "name": "stdout",
     "output_type": "stream",
     "text": [
      "Accuracy on Test Data: 83.33%\n"
     ]
    }
   ],
   "source": [
    "\n",
    "# Calculate accuracy on the test data\n",
    "accuracy = logreg_cv.score(X_test, Y_test)\n",
    "\n",
    "print(\"Accuracy on Test Data: {:.2f}%\".format(accuracy * 100))\n"
   ]
  },
  {
   "cell_type": "markdown",
   "metadata": {},
   "source": [
    "Lets look at the confusion matrix:\n"
   ]
  },
  {
   "cell_type": "code",
   "execution_count": 25,
   "metadata": {},
   "outputs": [
    {
     "data": {
      "image/png": "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\n",
      "text/plain": [
       "<Figure size 640x480 with 2 Axes>"
      ]
     },
     "metadata": {},
     "output_type": "display_data"
    }
   ],
   "source": [
    "yhat=logreg_cv.predict(X_test)\n",
    "plot_confusion_matrix(Y_test,yhat)"
   ]
  },
  {
   "cell_type": "markdown",
   "metadata": {},
   "source": [
    "Examining the confusion matrix, we see that logistic regression can distinguish between the different classes.  We see that the major problem is false positives.\n"
   ]
  },
  {
   "cell_type": "markdown",
   "metadata": {},
   "source": [
    "## TASK  6\n"
   ]
  },
  {
   "cell_type": "markdown",
   "metadata": {},
   "source": [
    "Create a support vector machine object then  create a  <code>GridSearchCV</code> object  <code>svm_cv</code> with cv - 10.  Fit the object to find the best parameters from the dictionary <code>parameters</code>.\n"
   ]
  },
  {
   "cell_type": "code",
   "execution_count": 26,
   "metadata": {},
   "outputs": [],
   "source": [
    "parameters = {'kernel':('linear', 'rbf','poly','rbf', 'sigmoid'),\n",
    "              'C': np.logspace(-3, 3, 5),\n",
    "              'gamma':np.logspace(-3, 3, 5)}\n",
    "svm = SVC()"
   ]
  },
  {
   "cell_type": "code",
   "execution_count": 27,
   "metadata": {},
   "outputs": [
    {
     "data": {
      "text/html": [
       "<style>#sk-container-id-2 {color: black;}#sk-container-id-2 pre{padding: 0;}#sk-container-id-2 div.sk-toggleable {background-color: white;}#sk-container-id-2 label.sk-toggleable__label {cursor: pointer;display: block;width: 100%;margin-bottom: 0;padding: 0.3em;box-sizing: border-box;text-align: center;}#sk-container-id-2 label.sk-toggleable__label-arrow:before {content: \"▸\";float: left;margin-right: 0.25em;color: #696969;}#sk-container-id-2 label.sk-toggleable__label-arrow:hover:before {color: black;}#sk-container-id-2 div.sk-estimator:hover label.sk-toggleable__label-arrow:before {color: black;}#sk-container-id-2 div.sk-toggleable__content {max-height: 0;max-width: 0;overflow: hidden;text-align: left;background-color: #f0f8ff;}#sk-container-id-2 div.sk-toggleable__content pre {margin: 0.2em;color: black;border-radius: 0.25em;background-color: #f0f8ff;}#sk-container-id-2 input.sk-toggleable__control:checked~div.sk-toggleable__content {max-height: 200px;max-width: 100%;overflow: auto;}#sk-container-id-2 input.sk-toggleable__control:checked~label.sk-toggleable__label-arrow:before {content: \"▾\";}#sk-container-id-2 div.sk-estimator input.sk-toggleable__control:checked~label.sk-toggleable__label {background-color: #d4ebff;}#sk-container-id-2 div.sk-label input.sk-toggleable__control:checked~label.sk-toggleable__label {background-color: #d4ebff;}#sk-container-id-2 input.sk-hidden--visually {border: 0;clip: rect(1px 1px 1px 1px);clip: rect(1px, 1px, 1px, 1px);height: 1px;margin: -1px;overflow: hidden;padding: 0;position: absolute;width: 1px;}#sk-container-id-2 div.sk-estimator {font-family: monospace;background-color: #f0f8ff;border: 1px dotted black;border-radius: 0.25em;box-sizing: border-box;margin-bottom: 0.5em;}#sk-container-id-2 div.sk-estimator:hover {background-color: #d4ebff;}#sk-container-id-2 div.sk-parallel-item::after {content: \"\";width: 100%;border-bottom: 1px solid gray;flex-grow: 1;}#sk-container-id-2 div.sk-label:hover label.sk-toggleable__label {background-color: #d4ebff;}#sk-container-id-2 div.sk-serial::before {content: \"\";position: absolute;border-left: 1px solid gray;box-sizing: border-box;top: 0;bottom: 0;left: 50%;z-index: 0;}#sk-container-id-2 div.sk-serial {display: flex;flex-direction: column;align-items: center;background-color: white;padding-right: 0.2em;padding-left: 0.2em;position: relative;}#sk-container-id-2 div.sk-item {position: relative;z-index: 1;}#sk-container-id-2 div.sk-parallel {display: flex;align-items: stretch;justify-content: center;background-color: white;position: relative;}#sk-container-id-2 div.sk-item::before, #sk-container-id-2 div.sk-parallel-item::before {content: \"\";position: absolute;border-left: 1px solid gray;box-sizing: border-box;top: 0;bottom: 0;left: 50%;z-index: -1;}#sk-container-id-2 div.sk-parallel-item {display: flex;flex-direction: column;z-index: 1;position: relative;background-color: white;}#sk-container-id-2 div.sk-parallel-item:first-child::after {align-self: flex-end;width: 50%;}#sk-container-id-2 div.sk-parallel-item:last-child::after {align-self: flex-start;width: 50%;}#sk-container-id-2 div.sk-parallel-item:only-child::after {width: 0;}#sk-container-id-2 div.sk-dashed-wrapped {border: 1px dashed gray;margin: 0 0.4em 0.5em 0.4em;box-sizing: border-box;padding-bottom: 0.4em;background-color: white;}#sk-container-id-2 div.sk-label label {font-family: monospace;font-weight: bold;display: inline-block;line-height: 1.2em;}#sk-container-id-2 div.sk-label-container {text-align: center;}#sk-container-id-2 div.sk-container {/* jupyter's `normalize.less` sets `[hidden] { display: none; }` but bootstrap.min.css set `[hidden] { display: none !important; }` so we also need the `!important` here to be able to override the default hidden behavior on the sphinx rendered scikit-learn.org. See: https://github.com/scikit-learn/scikit-learn/issues/21755 */display: inline-block !important;position: relative;}#sk-container-id-2 div.sk-text-repr-fallback {display: none;}</style><div id=\"sk-container-id-2\" class=\"sk-top-container\"><div class=\"sk-text-repr-fallback\"><pre>GridSearchCV(cv=10, estimator=SVC(),\n",
       "             param_grid={&#x27;C&#x27;: array([1.00000000e-03, 3.16227766e-02, 1.00000000e+00, 3.16227766e+01,\n",
       "       1.00000000e+03]),\n",
       "                         &#x27;gamma&#x27;: array([1.00000000e-03, 3.16227766e-02, 1.00000000e+00, 3.16227766e+01,\n",
       "       1.00000000e+03]),\n",
       "                         &#x27;kernel&#x27;: (&#x27;linear&#x27;, &#x27;rbf&#x27;, &#x27;poly&#x27;, &#x27;rbf&#x27;, &#x27;sigmoid&#x27;)})</pre><b>In a Jupyter environment, please rerun this cell to show the HTML representation or trust the notebook. <br />On GitHub, the HTML representation is unable to render, please try loading this page with nbviewer.org.</b></div><div class=\"sk-container\" hidden><div class=\"sk-item sk-dashed-wrapped\"><div class=\"sk-label-container\"><div class=\"sk-label sk-toggleable\"><input class=\"sk-toggleable__control sk-hidden--visually\" id=\"sk-estimator-id-4\" type=\"checkbox\" ><label for=\"sk-estimator-id-4\" class=\"sk-toggleable__label sk-toggleable__label-arrow\">GridSearchCV</label><div class=\"sk-toggleable__content\"><pre>GridSearchCV(cv=10, estimator=SVC(),\n",
       "             param_grid={&#x27;C&#x27;: array([1.00000000e-03, 3.16227766e-02, 1.00000000e+00, 3.16227766e+01,\n",
       "       1.00000000e+03]),\n",
       "                         &#x27;gamma&#x27;: array([1.00000000e-03, 3.16227766e-02, 1.00000000e+00, 3.16227766e+01,\n",
       "       1.00000000e+03]),\n",
       "                         &#x27;kernel&#x27;: (&#x27;linear&#x27;, &#x27;rbf&#x27;, &#x27;poly&#x27;, &#x27;rbf&#x27;, &#x27;sigmoid&#x27;)})</pre></div></div></div><div class=\"sk-parallel\"><div class=\"sk-parallel-item\"><div class=\"sk-item\"><div class=\"sk-label-container\"><div class=\"sk-label sk-toggleable\"><input class=\"sk-toggleable__control sk-hidden--visually\" id=\"sk-estimator-id-5\" type=\"checkbox\" ><label for=\"sk-estimator-id-5\" class=\"sk-toggleable__label sk-toggleable__label-arrow\">estimator: SVC</label><div class=\"sk-toggleable__content\"><pre>SVC()</pre></div></div></div><div class=\"sk-serial\"><div class=\"sk-item\"><div class=\"sk-estimator sk-toggleable\"><input class=\"sk-toggleable__control sk-hidden--visually\" id=\"sk-estimator-id-6\" type=\"checkbox\" ><label for=\"sk-estimator-id-6\" class=\"sk-toggleable__label sk-toggleable__label-arrow\">SVC</label><div class=\"sk-toggleable__content\"><pre>SVC()</pre></div></div></div></div></div></div></div></div></div></div>"
      ],
      "text/plain": [
       "GridSearchCV(cv=10, estimator=SVC(),\n",
       "             param_grid={'C': array([1.00000000e-03, 3.16227766e-02, 1.00000000e+00, 3.16227766e+01,\n",
       "       1.00000000e+03]),\n",
       "                         'gamma': array([1.00000000e-03, 3.16227766e-02, 1.00000000e+00, 3.16227766e+01,\n",
       "       1.00000000e+03]),\n",
       "                         'kernel': ('linear', 'rbf', 'poly', 'rbf', 'sigmoid')})"
      ]
     },
     "execution_count": 27,
     "metadata": {},
     "output_type": "execute_result"
    }
   ],
   "source": [
    "# Create GridSearchCV object\n",
    "svm_cv = GridSearchCV(svm, parameters, cv=10)\n",
    "\n",
    "# Fit the GridSearchCV object to find the best parameters\n",
    "svm_cv.fit(X_train, Y_train)\n"
   ]
  },
  {
   "cell_type": "code",
   "execution_count": 28,
   "metadata": {},
   "outputs": [
    {
     "name": "stdout",
     "output_type": "stream",
     "text": [
      "tuned hpyerparameters :(best parameters)  {'C': 1.0, 'gamma': 0.03162277660168379, 'kernel': 'sigmoid'}\n",
      "accuracy : 0.8482142857142856\n"
     ]
    }
   ],
   "source": [
    "print(\"tuned hpyerparameters :(best parameters) \",svm_cv.best_params_)\n",
    "print(\"accuracy :\",svm_cv.best_score_)"
   ]
  },
  {
   "cell_type": "markdown",
   "metadata": {},
   "source": [
    "## TASK  7\n"
   ]
  },
  {
   "cell_type": "markdown",
   "metadata": {},
   "source": [
    "Calculate the accuracy on the test data using the method <code>score</code>:\n"
   ]
  },
  {
   "cell_type": "code",
   "execution_count": 29,
   "metadata": {},
   "outputs": [
    {
     "name": "stdout",
     "output_type": "stream",
     "text": [
      "Accuracy on Test Data (SVM): 83.33%\n"
     ]
    }
   ],
   "source": [
    "accuracy_svm = svm_cv.score(X_test, Y_test)\n",
    "\n",
    "print(\"Accuracy on Test Data (SVM): {:.2f}%\".format(accuracy_svm * 100))"
   ]
  },
  {
   "cell_type": "markdown",
   "metadata": {},
   "source": [
    "We can plot the confusion matrix\n"
   ]
  },
  {
   "cell_type": "code",
   "execution_count": 30,
   "metadata": {},
   "outputs": [
    {
     "data": {
      "image/png": "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\n",
      "text/plain": [
       "<Figure size 640x480 with 2 Axes>"
      ]
     },
     "metadata": {},
     "output_type": "display_data"
    }
   ],
   "source": [
    "yhat=svm_cv.predict(X_test)\n",
    "plot_confusion_matrix(Y_test,yhat)"
   ]
  },
  {
   "cell_type": "markdown",
   "metadata": {},
   "source": [
    "## TASK  8\n"
   ]
  },
  {
   "cell_type": "markdown",
   "metadata": {},
   "source": [
    "Create a decision tree classifier object then  create a  <code>GridSearchCV</code> object  <code>tree_cv</code> with cv = 10.  Fit the object to find the best parameters from the dictionary <code>parameters</code>.\n"
   ]
  },
  {
   "cell_type": "code",
   "execution_count": 31,
   "metadata": {},
   "outputs": [],
   "source": [
    "parameters = {'criterion': ['gini', 'entropy'],\n",
    "     'splitter': ['best', 'random'],\n",
    "     'max_depth': [2*n for n in range(1,10)],\n",
    "     'max_features': ['auto', 'sqrt'],\n",
    "     'min_samples_leaf': [1, 2, 4],\n",
    "     'min_samples_split': [2, 5, 10]}\n",
    "\n",
    "tree = DecisionTreeClassifier()"
   ]
  },
  {
   "cell_type": "code",
   "execution_count": 32,
   "metadata": {
    "scrolled": true
   },
   "outputs": [
    {
     "name": "stderr",
     "output_type": "stream",
     "text": [
      "/home/mohaned/anaconda3/lib/python3.10/site-packages/sklearn/model_selection/_validation.py:425: FitFailedWarning: \n",
      "3240 fits failed out of a total of 6480.\n",
      "The score on these train-test partitions for these parameters will be set to nan.\n",
      "If these failures are not expected, you can try to debug them by setting error_score='raise'.\n",
      "\n",
      "Below are more details about the failures:\n",
      "--------------------------------------------------------------------------------\n",
      "3240 fits failed with the following error:\n",
      "Traceback (most recent call last):\n",
      "  File \"/home/mohaned/anaconda3/lib/python3.10/site-packages/sklearn/model_selection/_validation.py\", line 732, in _fit_and_score\n",
      "    estimator.fit(X_train, y_train, **fit_params)\n",
      "  File \"/home/mohaned/anaconda3/lib/python3.10/site-packages/sklearn/base.py\", line 1144, in wrapper\n",
      "    estimator._validate_params()\n",
      "  File \"/home/mohaned/anaconda3/lib/python3.10/site-packages/sklearn/base.py\", line 637, in _validate_params\n",
      "    validate_parameter_constraints(\n",
      "  File \"/home/mohaned/anaconda3/lib/python3.10/site-packages/sklearn/utils/_param_validation.py\", line 95, in validate_parameter_constraints\n",
      "    raise InvalidParameterError(\n",
      "sklearn.utils._param_validation.InvalidParameterError: The 'max_features' parameter of DecisionTreeClassifier must be an int in the range [1, inf), a float in the range (0.0, 1.0], a str among {'log2', 'sqrt'} or None. Got 'auto' instead.\n",
      "\n",
      "  warnings.warn(some_fits_failed_message, FitFailedWarning)\n",
      "/home/mohaned/anaconda3/lib/python3.10/site-packages/sklearn/model_selection/_search.py:976: UserWarning: One or more of the test scores are non-finite: [       nan        nan        nan        nan        nan        nan\n",
      "        nan        nan        nan        nan        nan        nan\n",
      "        nan        nan        nan        nan        nan        nan\n",
      " 0.80535714 0.79107143 0.775      0.80714286 0.73928571 0.75178571\n",
      " 0.75357143 0.84285714 0.79107143 0.75       0.7625     0.75\n",
      " 0.76607143 0.76428571 0.775      0.78928571 0.81964286 0.76785714\n",
      "        nan        nan        nan        nan        nan        nan\n",
      "        nan        nan        nan        nan        nan        nan\n",
      "        nan        nan        nan        nan        nan        nan\n",
      " 0.725      0.79285714 0.79107143 0.80535714 0.81785714 0.79107143\n",
      " 0.82142857 0.85892857 0.775      0.83214286 0.7625     0.76428571\n",
      " 0.77857143 0.77857143 0.7625     0.7625     0.83392857 0.75357143\n",
      "        nan        nan        nan        nan        nan        nan\n",
      "        nan        nan        nan        nan        nan        nan\n",
      "        nan        nan        nan        nan        nan        nan\n",
      " 0.81785714 0.78928571 0.7625     0.74821429 0.77678571 0.80535714\n",
      " 0.80535714 0.83214286 0.72321429 0.725      0.8        0.80357143\n",
      " 0.81607143 0.84464286 0.76428571 0.80892857 0.775      0.81785714\n",
      "        nan        nan        nan        nan        nan        nan\n",
      "        nan        nan        nan        nan        nan        nan\n",
      "        nan        nan        nan        nan        nan        nan\n",
      " 0.81964286 0.79107143 0.83571429 0.77678571 0.7625     0.81964286\n",
      " 0.76428571 0.74642857 0.83214286 0.79464286 0.77678571 0.80178571\n",
      " 0.81964286 0.83214286 0.71785714 0.80357143 0.77678571 0.84642857\n",
      "        nan        nan        nan        nan        nan        nan\n",
      "        nan        nan        nan        nan        nan        nan\n",
      "        nan        nan        nan        nan        nan        nan\n",
      " 0.80535714 0.78035714 0.76428571 0.72321429 0.80535714 0.81785714\n",
      " 0.83214286 0.80714286 0.7375     0.81785714 0.68392857 0.83392857\n",
      " 0.70357143 0.77678571 0.80357143 0.78928571 0.80714286 0.84642857\n",
      "        nan        nan        nan        nan        nan        nan\n",
      "        nan        nan        nan        nan        nan        nan\n",
      "        nan        nan        nan        nan        nan        nan\n",
      " 0.81964286 0.75178571 0.76428571 0.79107143 0.77857143 0.81964286\n",
      " 0.79464286 0.81785714 0.74821429 0.73571429 0.73571429 0.80892857\n",
      " 0.82142857 0.80357143 0.79107143 0.80714286 0.74821429 0.74821429\n",
      "        nan        nan        nan        nan        nan        nan\n",
      "        nan        nan        nan        nan        nan        nan\n",
      "        nan        nan        nan        nan        nan        nan\n",
      " 0.78035714 0.80535714 0.80535714 0.81964286 0.79107143 0.83214286\n",
      " 0.79107143 0.83392857 0.70535714 0.77857143 0.77678571 0.86071429\n",
      " 0.77857143 0.82142857 0.73214286 0.81785714 0.80357143 0.79107143\n",
      "        nan        nan        nan        nan        nan        nan\n",
      "        nan        nan        nan        nan        nan        nan\n",
      "        nan        nan        nan        nan        nan        nan\n",
      " 0.77678571 0.84642857 0.73392857 0.775      0.775      0.76428571\n",
      " 0.77857143 0.7625     0.69285714 0.86071429 0.83035714 0.78928571\n",
      " 0.75178571 0.71071429 0.74642857 0.79464286 0.78928571 0.83392857\n",
      "        nan        nan        nan        nan        nan        nan\n",
      "        nan        nan        nan        nan        nan        nan\n",
      "        nan        nan        nan        nan        nan        nan\n",
      " 0.76428571 0.81964286 0.77857143 0.70714286 0.70535714 0.80714286\n",
      " 0.77678571 0.69285714 0.75       0.81785714 0.78035714 0.75\n",
      " 0.725      0.76785714 0.73392857 0.84642857 0.79107143 0.76428571\n",
      "        nan        nan        nan        nan        nan        nan\n",
      "        nan        nan        nan        nan        nan        nan\n",
      "        nan        nan        nan        nan        nan        nan\n",
      " 0.78035714 0.80535714 0.73928571 0.70892857 0.73392857 0.76071429\n",
      " 0.83035714 0.76607143 0.725      0.72678571 0.80535714 0.76785714\n",
      " 0.78928571 0.7625     0.76071429 0.75178571 0.83214286 0.78035714\n",
      "        nan        nan        nan        nan        nan        nan\n",
      "        nan        nan        nan        nan        nan        nan\n",
      "        nan        nan        nan        nan        nan        nan\n",
      " 0.79107143 0.84642857 0.77678571 0.81785714 0.83214286 0.8625\n",
      " 0.77678571 0.83392857 0.82321429 0.775      0.82142857 0.7625\n",
      " 0.81964286 0.725      0.70892857 0.7375     0.80357143 0.73928571\n",
      "        nan        nan        nan        nan        nan        nan\n",
      "        nan        nan        nan        nan        nan        nan\n",
      "        nan        nan        nan        nan        nan        nan\n",
      " 0.77857143 0.78928571 0.81785714 0.79285714 0.77321429 0.81964286\n",
      " 0.73571429 0.80357143 0.74821429 0.80535714 0.75       0.78928571\n",
      " 0.70535714 0.75357143 0.81607143 0.875      0.80535714 0.73928571\n",
      "        nan        nan        nan        nan        nan        nan\n",
      "        nan        nan        nan        nan        nan        nan\n",
      "        nan        nan        nan        nan        nan        nan\n",
      " 0.83392857 0.81785714 0.79107143 0.83392857 0.83214286 0.80714286\n",
      " 0.80714286 0.80357143 0.70892857 0.775      0.81964286 0.80535714\n",
      " 0.74821429 0.80892857 0.74464286 0.80892857 0.75892857 0.79107143\n",
      "        nan        nan        nan        nan        nan        nan\n",
      "        nan        nan        nan        nan        nan        nan\n",
      "        nan        nan        nan        nan        nan        nan\n",
      " 0.76428571 0.79285714 0.77678571 0.78035714 0.81785714 0.79285714\n",
      " 0.79107143 0.72142857 0.725      0.79107143 0.78928571 0.77678571\n",
      " 0.77678571 0.77857143 0.70714286 0.70892857 0.70535714 0.74821429\n",
      "        nan        nan        nan        nan        nan        nan\n",
      "        nan        nan        nan        nan        nan        nan\n",
      "        nan        nan        nan        nan        nan        nan\n",
      " 0.79107143 0.77678571 0.76428571 0.81964286 0.73571429 0.81071429\n",
      " 0.77857143 0.7375     0.73392857 0.76607143 0.86071429 0.74642857\n",
      " 0.77678571 0.83392857 0.69464286 0.775      0.76428571 0.76785714\n",
      "        nan        nan        nan        nan        nan        nan\n",
      "        nan        nan        nan        nan        nan        nan\n",
      "        nan        nan        nan        nan        nan        nan\n",
      " 0.80535714 0.72142857 0.73392857 0.78928571 0.76071429 0.76071429\n",
      " 0.71785714 0.7375     0.76071429 0.76071429 0.78928571 0.83214286\n",
      " 0.80535714 0.80357143 0.76428571 0.83392857 0.7625     0.80535714\n",
      "        nan        nan        nan        nan        nan        nan\n",
      "        nan        nan        nan        nan        nan        nan\n",
      "        nan        nan        nan        nan        nan        nan\n",
      " 0.73571429 0.79107143 0.74821429 0.80357143 0.7625     0.74821429\n",
      " 0.77678571 0.73392857 0.81428571 0.74821429 0.70714286 0.79107143\n",
      " 0.77857143 0.76785714 0.78928571 0.77857143 0.70535714 0.83214286\n",
      "        nan        nan        nan        nan        nan        nan\n",
      "        nan        nan        nan        nan        nan        nan\n",
      "        nan        nan        nan        nan        nan        nan\n",
      " 0.73571429 0.82142857 0.70535714 0.82142857 0.80357143 0.7625\n",
      " 0.7625     0.75       0.76428571 0.6625     0.74642857 0.75357143\n",
      " 0.77678571 0.775      0.70357143 0.75357143 0.78928571 0.84464286]\n",
      "  warnings.warn(\n"
     ]
    },
    {
     "data": {
      "text/html": [
       "<style>#sk-container-id-3 {color: black;}#sk-container-id-3 pre{padding: 0;}#sk-container-id-3 div.sk-toggleable {background-color: white;}#sk-container-id-3 label.sk-toggleable__label {cursor: pointer;display: block;width: 100%;margin-bottom: 0;padding: 0.3em;box-sizing: border-box;text-align: center;}#sk-container-id-3 label.sk-toggleable__label-arrow:before {content: \"▸\";float: left;margin-right: 0.25em;color: #696969;}#sk-container-id-3 label.sk-toggleable__label-arrow:hover:before {color: black;}#sk-container-id-3 div.sk-estimator:hover label.sk-toggleable__label-arrow:before {color: black;}#sk-container-id-3 div.sk-toggleable__content {max-height: 0;max-width: 0;overflow: hidden;text-align: left;background-color: #f0f8ff;}#sk-container-id-3 div.sk-toggleable__content pre {margin: 0.2em;color: black;border-radius: 0.25em;background-color: #f0f8ff;}#sk-container-id-3 input.sk-toggleable__control:checked~div.sk-toggleable__content {max-height: 200px;max-width: 100%;overflow: auto;}#sk-container-id-3 input.sk-toggleable__control:checked~label.sk-toggleable__label-arrow:before {content: \"▾\";}#sk-container-id-3 div.sk-estimator input.sk-toggleable__control:checked~label.sk-toggleable__label {background-color: #d4ebff;}#sk-container-id-3 div.sk-label input.sk-toggleable__control:checked~label.sk-toggleable__label {background-color: #d4ebff;}#sk-container-id-3 input.sk-hidden--visually {border: 0;clip: rect(1px 1px 1px 1px);clip: rect(1px, 1px, 1px, 1px);height: 1px;margin: -1px;overflow: hidden;padding: 0;position: absolute;width: 1px;}#sk-container-id-3 div.sk-estimator {font-family: monospace;background-color: #f0f8ff;border: 1px dotted black;border-radius: 0.25em;box-sizing: border-box;margin-bottom: 0.5em;}#sk-container-id-3 div.sk-estimator:hover {background-color: #d4ebff;}#sk-container-id-3 div.sk-parallel-item::after {content: \"\";width: 100%;border-bottom: 1px solid gray;flex-grow: 1;}#sk-container-id-3 div.sk-label:hover label.sk-toggleable__label {background-color: #d4ebff;}#sk-container-id-3 div.sk-serial::before {content: \"\";position: absolute;border-left: 1px solid gray;box-sizing: border-box;top: 0;bottom: 0;left: 50%;z-index: 0;}#sk-container-id-3 div.sk-serial {display: flex;flex-direction: column;align-items: center;background-color: white;padding-right: 0.2em;padding-left: 0.2em;position: relative;}#sk-container-id-3 div.sk-item {position: relative;z-index: 1;}#sk-container-id-3 div.sk-parallel {display: flex;align-items: stretch;justify-content: center;background-color: white;position: relative;}#sk-container-id-3 div.sk-item::before, #sk-container-id-3 div.sk-parallel-item::before {content: \"\";position: absolute;border-left: 1px solid gray;box-sizing: border-box;top: 0;bottom: 0;left: 50%;z-index: -1;}#sk-container-id-3 div.sk-parallel-item {display: flex;flex-direction: column;z-index: 1;position: relative;background-color: white;}#sk-container-id-3 div.sk-parallel-item:first-child::after {align-self: flex-end;width: 50%;}#sk-container-id-3 div.sk-parallel-item:last-child::after {align-self: flex-start;width: 50%;}#sk-container-id-3 div.sk-parallel-item:only-child::after {width: 0;}#sk-container-id-3 div.sk-dashed-wrapped {border: 1px dashed gray;margin: 0 0.4em 0.5em 0.4em;box-sizing: border-box;padding-bottom: 0.4em;background-color: white;}#sk-container-id-3 div.sk-label label {font-family: monospace;font-weight: bold;display: inline-block;line-height: 1.2em;}#sk-container-id-3 div.sk-label-container {text-align: center;}#sk-container-id-3 div.sk-container {/* jupyter's `normalize.less` sets `[hidden] { display: none; }` but bootstrap.min.css set `[hidden] { display: none !important; }` so we also need the `!important` here to be able to override the default hidden behavior on the sphinx rendered scikit-learn.org. See: https://github.com/scikit-learn/scikit-learn/issues/21755 */display: inline-block !important;position: relative;}#sk-container-id-3 div.sk-text-repr-fallback {display: none;}</style><div id=\"sk-container-id-3\" class=\"sk-top-container\"><div class=\"sk-text-repr-fallback\"><pre>GridSearchCV(cv=10, estimator=DecisionTreeClassifier(),\n",
       "             param_grid={&#x27;criterion&#x27;: [&#x27;gini&#x27;, &#x27;entropy&#x27;],\n",
       "                         &#x27;max_depth&#x27;: [2, 4, 6, 8, 10, 12, 14, 16, 18],\n",
       "                         &#x27;max_features&#x27;: [&#x27;auto&#x27;, &#x27;sqrt&#x27;],\n",
       "                         &#x27;min_samples_leaf&#x27;: [1, 2, 4],\n",
       "                         &#x27;min_samples_split&#x27;: [2, 5, 10],\n",
       "                         &#x27;splitter&#x27;: [&#x27;best&#x27;, &#x27;random&#x27;]})</pre><b>In a Jupyter environment, please rerun this cell to show the HTML representation or trust the notebook. <br />On GitHub, the HTML representation is unable to render, please try loading this page with nbviewer.org.</b></div><div class=\"sk-container\" hidden><div class=\"sk-item sk-dashed-wrapped\"><div class=\"sk-label-container\"><div class=\"sk-label sk-toggleable\"><input class=\"sk-toggleable__control sk-hidden--visually\" id=\"sk-estimator-id-7\" type=\"checkbox\" ><label for=\"sk-estimator-id-7\" class=\"sk-toggleable__label sk-toggleable__label-arrow\">GridSearchCV</label><div class=\"sk-toggleable__content\"><pre>GridSearchCV(cv=10, estimator=DecisionTreeClassifier(),\n",
       "             param_grid={&#x27;criterion&#x27;: [&#x27;gini&#x27;, &#x27;entropy&#x27;],\n",
       "                         &#x27;max_depth&#x27;: [2, 4, 6, 8, 10, 12, 14, 16, 18],\n",
       "                         &#x27;max_features&#x27;: [&#x27;auto&#x27;, &#x27;sqrt&#x27;],\n",
       "                         &#x27;min_samples_leaf&#x27;: [1, 2, 4],\n",
       "                         &#x27;min_samples_split&#x27;: [2, 5, 10],\n",
       "                         &#x27;splitter&#x27;: [&#x27;best&#x27;, &#x27;random&#x27;]})</pre></div></div></div><div class=\"sk-parallel\"><div class=\"sk-parallel-item\"><div class=\"sk-item\"><div class=\"sk-label-container\"><div class=\"sk-label sk-toggleable\"><input class=\"sk-toggleable__control sk-hidden--visually\" id=\"sk-estimator-id-8\" type=\"checkbox\" ><label for=\"sk-estimator-id-8\" class=\"sk-toggleable__label sk-toggleable__label-arrow\">estimator: DecisionTreeClassifier</label><div class=\"sk-toggleable__content\"><pre>DecisionTreeClassifier()</pre></div></div></div><div class=\"sk-serial\"><div class=\"sk-item\"><div class=\"sk-estimator sk-toggleable\"><input class=\"sk-toggleable__control sk-hidden--visually\" id=\"sk-estimator-id-9\" type=\"checkbox\" ><label for=\"sk-estimator-id-9\" class=\"sk-toggleable__label sk-toggleable__label-arrow\">DecisionTreeClassifier</label><div class=\"sk-toggleable__content\"><pre>DecisionTreeClassifier()</pre></div></div></div></div></div></div></div></div></div></div>"
      ],
      "text/plain": [
       "GridSearchCV(cv=10, estimator=DecisionTreeClassifier(),\n",
       "             param_grid={'criterion': ['gini', 'entropy'],\n",
       "                         'max_depth': [2, 4, 6, 8, 10, 12, 14, 16, 18],\n",
       "                         'max_features': ['auto', 'sqrt'],\n",
       "                         'min_samples_leaf': [1, 2, 4],\n",
       "                         'min_samples_split': [2, 5, 10],\n",
       "                         'splitter': ['best', 'random']})"
      ]
     },
     "execution_count": 32,
     "metadata": {},
     "output_type": "execute_result"
    }
   ],
   "source": [
    "# Create GridSearchCV object\n",
    "tree_cv = GridSearchCV(tree, parameters, cv=10)\n",
    "\n",
    "# Fit the GridSearchCV object to find the best parameters\n",
    "tree_cv.fit(X_train, Y_train)\n"
   ]
  },
  {
   "cell_type": "code",
   "execution_count": 33,
   "metadata": {},
   "outputs": [
    {
     "name": "stdout",
     "output_type": "stream",
     "text": [
      "tuned hpyerparameters :(best parameters)  {'criterion': 'entropy', 'max_depth': 6, 'max_features': 'sqrt', 'min_samples_leaf': 4, 'min_samples_split': 5, 'splitter': 'random'}\n",
      "accuracy : 0.875\n"
     ]
    }
   ],
   "source": [
    "print(\"tuned hpyerparameters :(best parameters) \",tree_cv.best_params_)\n",
    "print(\"accuracy :\",tree_cv.best_score_)"
   ]
  },
  {
   "cell_type": "markdown",
   "metadata": {},
   "source": [
    "## TASK  9\n"
   ]
  },
  {
   "cell_type": "markdown",
   "metadata": {},
   "source": [
    "Calculate the accuracy of tree_cv on the test data using the method <code>score</code>:\n"
   ]
  },
  {
   "cell_type": "code",
   "execution_count": 34,
   "metadata": {},
   "outputs": [
    {
     "name": "stdout",
     "output_type": "stream",
     "text": [
      "Accuracy on Test Data (Decision Tree): 83.33%\n"
     ]
    }
   ],
   "source": [
    "# Assuming X_test and Y_test are your test data and labels\n",
    "\n",
    "# Calculate accuracy on the test data\n",
    "accuracy_tree = tree_cv.score(X_test, Y_test)\n",
    "\n",
    "print(\"Accuracy on Test Data (Decision Tree): {:.2f}%\".format(accuracy_tree * 100))\n"
   ]
  },
  {
   "cell_type": "markdown",
   "metadata": {},
   "source": [
    "We can plot the confusion matrix\n"
   ]
  },
  {
   "cell_type": "code",
   "execution_count": 35,
   "metadata": {},
   "outputs": [
    {
     "data": {
      "image/png": "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\n",
      "text/plain": [
       "<Figure size 640x480 with 2 Axes>"
      ]
     },
     "metadata": {},
     "output_type": "display_data"
    }
   ],
   "source": [
    "yhat = tree_cv.predict(X_test)\n",
    "plot_confusion_matrix(Y_test,yhat)"
   ]
  },
  {
   "cell_type": "markdown",
   "metadata": {},
   "source": [
    "## TASK  10\n"
   ]
  },
  {
   "cell_type": "markdown",
   "metadata": {},
   "source": [
    "Create a k nearest neighbors object then  create a  <code>GridSearchCV</code> object  <code>knn_cv</code> with cv = 10.  Fit the object to find the best parameters from the dictionary <code>parameters</code>.\n"
   ]
  },
  {
   "cell_type": "code",
   "execution_count": 36,
   "metadata": {},
   "outputs": [],
   "source": [
    "parameters = {'n_neighbors': [1, 2, 3, 4, 5, 6, 7, 8, 9, 10],\n",
    "              'algorithm': ['auto', 'ball_tree', 'kd_tree', 'brute'],\n",
    "              'p': [1,2]}\n",
    "\n",
    "KNN = KNeighborsClassifier()"
   ]
  },
  {
   "cell_type": "code",
   "execution_count": 37,
   "metadata": {},
   "outputs": [
    {
     "data": {
      "text/html": [
       "<style>#sk-container-id-4 {color: black;}#sk-container-id-4 pre{padding: 0;}#sk-container-id-4 div.sk-toggleable {background-color: white;}#sk-container-id-4 label.sk-toggleable__label {cursor: pointer;display: block;width: 100%;margin-bottom: 0;padding: 0.3em;box-sizing: border-box;text-align: center;}#sk-container-id-4 label.sk-toggleable__label-arrow:before {content: \"▸\";float: left;margin-right: 0.25em;color: #696969;}#sk-container-id-4 label.sk-toggleable__label-arrow:hover:before {color: black;}#sk-container-id-4 div.sk-estimator:hover label.sk-toggleable__label-arrow:before {color: black;}#sk-container-id-4 div.sk-toggleable__content {max-height: 0;max-width: 0;overflow: hidden;text-align: left;background-color: #f0f8ff;}#sk-container-id-4 div.sk-toggleable__content pre {margin: 0.2em;color: black;border-radius: 0.25em;background-color: #f0f8ff;}#sk-container-id-4 input.sk-toggleable__control:checked~div.sk-toggleable__content {max-height: 200px;max-width: 100%;overflow: auto;}#sk-container-id-4 input.sk-toggleable__control:checked~label.sk-toggleable__label-arrow:before {content: \"▾\";}#sk-container-id-4 div.sk-estimator input.sk-toggleable__control:checked~label.sk-toggleable__label {background-color: #d4ebff;}#sk-container-id-4 div.sk-label input.sk-toggleable__control:checked~label.sk-toggleable__label {background-color: #d4ebff;}#sk-container-id-4 input.sk-hidden--visually {border: 0;clip: rect(1px 1px 1px 1px);clip: rect(1px, 1px, 1px, 1px);height: 1px;margin: -1px;overflow: hidden;padding: 0;position: absolute;width: 1px;}#sk-container-id-4 div.sk-estimator {font-family: monospace;background-color: #f0f8ff;border: 1px dotted black;border-radius: 0.25em;box-sizing: border-box;margin-bottom: 0.5em;}#sk-container-id-4 div.sk-estimator:hover {background-color: #d4ebff;}#sk-container-id-4 div.sk-parallel-item::after {content: \"\";width: 100%;border-bottom: 1px solid gray;flex-grow: 1;}#sk-container-id-4 div.sk-label:hover label.sk-toggleable__label {background-color: #d4ebff;}#sk-container-id-4 div.sk-serial::before {content: \"\";position: absolute;border-left: 1px solid gray;box-sizing: border-box;top: 0;bottom: 0;left: 50%;z-index: 0;}#sk-container-id-4 div.sk-serial {display: flex;flex-direction: column;align-items: center;background-color: white;padding-right: 0.2em;padding-left: 0.2em;position: relative;}#sk-container-id-4 div.sk-item {position: relative;z-index: 1;}#sk-container-id-4 div.sk-parallel {display: flex;align-items: stretch;justify-content: center;background-color: white;position: relative;}#sk-container-id-4 div.sk-item::before, #sk-container-id-4 div.sk-parallel-item::before {content: \"\";position: absolute;border-left: 1px solid gray;box-sizing: border-box;top: 0;bottom: 0;left: 50%;z-index: -1;}#sk-container-id-4 div.sk-parallel-item {display: flex;flex-direction: column;z-index: 1;position: relative;background-color: white;}#sk-container-id-4 div.sk-parallel-item:first-child::after {align-self: flex-end;width: 50%;}#sk-container-id-4 div.sk-parallel-item:last-child::after {align-self: flex-start;width: 50%;}#sk-container-id-4 div.sk-parallel-item:only-child::after {width: 0;}#sk-container-id-4 div.sk-dashed-wrapped {border: 1px dashed gray;margin: 0 0.4em 0.5em 0.4em;box-sizing: border-box;padding-bottom: 0.4em;background-color: white;}#sk-container-id-4 div.sk-label label {font-family: monospace;font-weight: bold;display: inline-block;line-height: 1.2em;}#sk-container-id-4 div.sk-label-container {text-align: center;}#sk-container-id-4 div.sk-container {/* jupyter's `normalize.less` sets `[hidden] { display: none; }` but bootstrap.min.css set `[hidden] { display: none !important; }` so we also need the `!important` here to be able to override the default hidden behavior on the sphinx rendered scikit-learn.org. See: https://github.com/scikit-learn/scikit-learn/issues/21755 */display: inline-block !important;position: relative;}#sk-container-id-4 div.sk-text-repr-fallback {display: none;}</style><div id=\"sk-container-id-4\" class=\"sk-top-container\"><div class=\"sk-text-repr-fallback\"><pre>GridSearchCV(cv=10, estimator=KNeighborsClassifier(),\n",
       "             param_grid={&#x27;algorithm&#x27;: [&#x27;auto&#x27;, &#x27;ball_tree&#x27;, &#x27;kd_tree&#x27;, &#x27;brute&#x27;],\n",
       "                         &#x27;n_neighbors&#x27;: [1, 2, 3, 4, 5, 6, 7, 8, 9, 10],\n",
       "                         &#x27;p&#x27;: [1, 2]})</pre><b>In a Jupyter environment, please rerun this cell to show the HTML representation or trust the notebook. <br />On GitHub, the HTML representation is unable to render, please try loading this page with nbviewer.org.</b></div><div class=\"sk-container\" hidden><div class=\"sk-item sk-dashed-wrapped\"><div class=\"sk-label-container\"><div class=\"sk-label sk-toggleable\"><input class=\"sk-toggleable__control sk-hidden--visually\" id=\"sk-estimator-id-10\" type=\"checkbox\" ><label for=\"sk-estimator-id-10\" class=\"sk-toggleable__label sk-toggleable__label-arrow\">GridSearchCV</label><div class=\"sk-toggleable__content\"><pre>GridSearchCV(cv=10, estimator=KNeighborsClassifier(),\n",
       "             param_grid={&#x27;algorithm&#x27;: [&#x27;auto&#x27;, &#x27;ball_tree&#x27;, &#x27;kd_tree&#x27;, &#x27;brute&#x27;],\n",
       "                         &#x27;n_neighbors&#x27;: [1, 2, 3, 4, 5, 6, 7, 8, 9, 10],\n",
       "                         &#x27;p&#x27;: [1, 2]})</pre></div></div></div><div class=\"sk-parallel\"><div class=\"sk-parallel-item\"><div class=\"sk-item\"><div class=\"sk-label-container\"><div class=\"sk-label sk-toggleable\"><input class=\"sk-toggleable__control sk-hidden--visually\" id=\"sk-estimator-id-11\" type=\"checkbox\" ><label for=\"sk-estimator-id-11\" class=\"sk-toggleable__label sk-toggleable__label-arrow\">estimator: KNeighborsClassifier</label><div class=\"sk-toggleable__content\"><pre>KNeighborsClassifier()</pre></div></div></div><div class=\"sk-serial\"><div class=\"sk-item\"><div class=\"sk-estimator sk-toggleable\"><input class=\"sk-toggleable__control sk-hidden--visually\" id=\"sk-estimator-id-12\" type=\"checkbox\" ><label for=\"sk-estimator-id-12\" class=\"sk-toggleable__label sk-toggleable__label-arrow\">KNeighborsClassifier</label><div class=\"sk-toggleable__content\"><pre>KNeighborsClassifier()</pre></div></div></div></div></div></div></div></div></div></div>"
      ],
      "text/plain": [
       "GridSearchCV(cv=10, estimator=KNeighborsClassifier(),\n",
       "             param_grid={'algorithm': ['auto', 'ball_tree', 'kd_tree', 'brute'],\n",
       "                         'n_neighbors': [1, 2, 3, 4, 5, 6, 7, 8, 9, 10],\n",
       "                         'p': [1, 2]})"
      ]
     },
     "execution_count": 37,
     "metadata": {},
     "output_type": "execute_result"
    }
   ],
   "source": [
    "# Create GridSearchCV object\n",
    "knn_cv = GridSearchCV(KNN, parameters, cv=10)\n",
    "\n",
    "# Fit the GridSearchCV object to find the best parameters\n",
    "knn_cv.fit(X_train, Y_train)\n"
   ]
  },
  {
   "cell_type": "code",
   "execution_count": 38,
   "metadata": {},
   "outputs": [
    {
     "name": "stdout",
     "output_type": "stream",
     "text": [
      "tuned hpyerparameters :(best parameters)  {'algorithm': 'auto', 'n_neighbors': 10, 'p': 1}\n",
      "accuracy : 0.8482142857142858\n"
     ]
    }
   ],
   "source": [
    "print(\"tuned hpyerparameters :(best parameters) \",knn_cv.best_params_)\n",
    "print(\"accuracy :\",knn_cv.best_score_)"
   ]
  },
  {
   "cell_type": "markdown",
   "metadata": {},
   "source": [
    "## TASK  11\n"
   ]
  },
  {
   "cell_type": "markdown",
   "metadata": {},
   "source": [
    "Calculate the accuracy of knn_cv on the test data using the method <code>score</code>:\n"
   ]
  },
  {
   "cell_type": "code",
   "execution_count": 39,
   "metadata": {},
   "outputs": [
    {
     "name": "stdout",
     "output_type": "stream",
     "text": [
      "Accuracy on Test Data (k-Nearest Neighbors): 83.33%\n"
     ]
    }
   ],
   "source": [
    "accuracy_knn = knn_cv.score(X_test, Y_test)\n",
    "\n",
    "print(\"Accuracy on Test Data (k-Nearest Neighbors): {:.2f}%\".format(accuracy_knn * 100))"
   ]
  },
  {
   "cell_type": "markdown",
   "metadata": {},
   "source": [
    "We can plot the confusion matrix\n"
   ]
  },
  {
   "cell_type": "code",
   "execution_count": 40,
   "metadata": {},
   "outputs": [
    {
     "data": {
      "image/png": "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\n",
      "text/plain": [
       "<Figure size 640x480 with 2 Axes>"
      ]
     },
     "metadata": {},
     "output_type": "display_data"
    }
   ],
   "source": [
    "yhat = knn_cv.predict(X_test)\n",
    "plot_confusion_matrix(Y_test,yhat)"
   ]
  },
  {
   "cell_type": "markdown",
   "metadata": {},
   "source": [
    "## TASK  12\n"
   ]
  },
  {
   "cell_type": "markdown",
   "metadata": {},
   "source": [
    "Find the method performs best:\n"
   ]
  },
  {
   "cell_type": "code",
   "execution_count": 54,
   "metadata": {},
   "outputs": [
    {
     "name": "stdout",
     "output_type": "stream",
     "text": [
      "Accuracy on Model (Logistic Regression): 84.64%\n",
      "Accuracy on Model (SVM): 84.82%\n",
      "Accuracy on Model (Decision Tree): 87.50%\n",
      "Accuracy on Model (k-Nearest Neighbors): 83.33%\n"
     ]
    }
   ],
   "source": [
    "print(\"Accuracy on Model (Logistic Regression): {:.2f}%\".format(logreg_cv.best_score_ * 100))\n",
    "print(\"Accuracy on Model (SVM): {:.2f}%\".format(svm_cv.best_score_ * 100))\n",
    "print(\"Accuracy on Model (Decision Tree): {:.2f}%\".format(tree_cv.best_score_ * 100))\n",
    "print(\"Accuracy on Model (k-Nearest Neighbors): {:.2f}%\".format(accuracy_knn * 100))\n"
   ]
  },
  {
   "cell_type": "code",
   "execution_count": 53,
   "metadata": {},
   "outputs": [
    {
     "data": {
      "image/png": "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\n",
      "text/plain": [
       "<Figure size 640x480 with 1 Axes>"
      ]
     },
     "metadata": {},
     "output_type": "display_data"
    }
   ],
   "source": [
    "# Accuracy values for each model\n",
    "accuracies = [logreg_cv.best_score_, svm_cv.best_score_,\n",
    "              tree_cv.best_score_,accuracy_knn]\n",
    "\n",
    "# Model names\n",
    "models = ['Logistic Regression', 'SVM', 'Decision Tree', 'k-N N']\n",
    "\n",
    "# Plotting the bar chart\n",
    "plt.bar(models, accuracies, color=['blue', 'orange', 'green', 'red'])\n",
    "plt.ylabel('Accuracy')\n",
    "plt.title('Model Accuracy Comparison')\n",
    "plt.ylim([0, 1])  # Setting y-axis limit to represent percentage\n",
    "plt.show()\n"
   ]
  },
  {
   "cell_type": "code",
   "execution_count": 52,
   "metadata": {},
   "outputs": [
    {
     "name": "stdout",
     "output_type": "stream",
     "text": [
      "Accuracy on Test Data (Logistic Regression): 83.33%\n",
      "Accuracy on Test Data (SVM): 83.33%\n",
      "Accuracy on Test Data (Decision Tree): 83.33%\n",
      "Accuracy on Test Data (k-Nearest Neighbors): 83.33%\n"
     ]
    }
   ],
   "source": [
    "print(\"Accuracy on Test Data (Logistic Regression): {:.2f}%\".format(accuracy * 100))\n",
    "print(\"Accuracy on Test Data (SVM): {:.2f}%\".format(accuracy_svm * 100))\n",
    "print(\"Accuracy on Test Data (Decision Tree): {:.2f}%\".format(accuracy_tree * 100))\n",
    "print(\"Accuracy on Test Data (k-Nearest Neighbors): {:.2f}%\".format(accuracy_knn * 100))\n"
   ]
  },
  {
   "cell_type": "code",
   "execution_count": 55,
   "metadata": {},
   "outputs": [
    {
     "data": {
      "image/png": "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\n",
      "text/plain": [
       "<Figure size 640x480 with 1 Axes>"
      ]
     },
     "metadata": {},
     "output_type": "display_data"
    }
   ],
   "source": [
    "# Accuracy values for each model\n",
    "accuracies = [accuracy, accuracy_svm,\n",
    "              accuracy_tree,accuracy_knn]\n",
    "\n",
    "# Model names\n",
    "models = ['Logistic Regression', 'SVM', 'Decision Tree', 'k-N N']\n",
    "\n",
    "# Plotting the bar chart\n",
    "plt.bar(models, accuracies, color=['blue', 'orange', 'green', 'red'])\n",
    "plt.ylabel('Accuracy')\n",
    "plt.title('Model Accuracy Comparison')\n",
    "plt.ylim([0, 1])  # Setting y-axis limit to represent percentage\n",
    "plt.show()\n"
   ]
  },
 
 ],
 "metadata": {
  "kernelspec": {
   "display_name": "Python 3 (ipykernel)",
   "language": "python",
   "name": "python3"
  },
  "language_info": {
   "codemirror_mode": {
    "name": "ipython",
    "version": 3
   },
   "file_extension": ".py",
   "mimetype": "text/x-python",
   "name": "python",
   "nbconvert_exporter": "python",
   "pygments_lexer": "ipython3",
   "version": "3.10.9"
  }
 },
 "nbformat": 4,
 "nbformat_minor": 4
}
